{
 "cells": [
  {
   "cell_type": "code",
   "execution_count": 4,
   "metadata": {},
   "outputs": [],
   "source": [
    "import pandas as pd\n",
    "import json\n",
    "models = []\n",
    "\n",
    "lr = []\n",
    "svm = []\n",
    "dt = []\n",
    "rf = []\n",
    "gbt = []\n",
    "\n",
    "for i in range(20):\n",
    "    \n",
    "    result_lr = pd.read_csv('D:data/component_1' + '/lr/' + str(i) + '.csv', index_col=0)\n",
    "    result_svm = pd.read_csv('D:data/component_1' + '/svm/' + str(i) + '.csv', index_col=0)\n",
    "    result_dt = pd.read_csv('D:data/component_1' + '/dt/' + str(i) + '.csv', index_col=0)\n",
    "    result_rf = pd.read_csv('D:data/component_1' + '/rf/' + str(i) + '.csv', index_col=0)\n",
    "    result_gbt = pd.read_csv('D:data/component_1' + '/gbt/' + str(i) + '.csv', index_col=0)\n",
    "    \n",
    "    lr.append(result_lr)\n",
    "    svm.append(result_svm)\n",
    "    dt.append(result_dt)\n",
    "    rf.append(result_rf)\n",
    "    gbt.append(result_gbt)\n",
    "    \n",
    "models = [lr, svm, dt, rf ,gbt]"
   ]
  },
  {
   "cell_type": "code",
   "execution_count": 5,
   "metadata": {},
   "outputs": [],
   "source": [
    "dics = []\n",
    "\n",
    "dic_lrs = []\n",
    "dic_svms = []\n",
    "dic_dts = []\n",
    "dic_rfs = []\n",
    "dic_gbts = []\n",
    "\n",
    "dics = [dic_lrs, dic_svms, dic_dts, dic_rfs, dic_gbts]\n",
    "\n",
    "for i in range(len(models)):    \n",
    "    for j in range(20):\n",
    "        dic = {}\n",
    "        for k in models[i][j].index:         \n",
    "            dic.setdefault(models[i][j].loc[k, 'component'] ,[]).append(models[i][j].loc[k, 'id'])\n",
    "            \n",
    "        dics[i].append(dic)    "
   ]
  },
  {
   "cell_type": "code",
   "execution_count": 6,
   "metadata": {},
   "outputs": [],
   "source": [
    "model_name = ['lr', 'svm', 'dt', 'rf', 'gbt']\n",
    "author_name = ['mei_xu', 'mian_chen', 'yong_qing_huang', 'yin_shi', 'lili_ma','kwok_fai_so', 'wen_chang_chen', \n",
    "             'mei_ling_chen', 'yue_tian', 's_lin', 'yongqing_li', 'junling_wang', 'chun_hung_lin', 'guotong_du',\n",
    "             'jianqiang_yi', 'chih_ming_lin', 'weiming_zhu', 'hongbin_liang','li_zhu_wu', 'xiaobing_luo']\n",
    "\n",
    "import os\n",
    "path = 'D:data/result_2'\n",
    "for i in range(len(models)):\n",
    "    saved_dir = path + '/' + model_name[i]\n",
    "    if not os.path.exists(saved_dir):\n",
    "        os.mkdir(saved_dir)\n",
    "    for j in range(20):\n",
    "        output_dic = {}\n",
    "        filename = author_name[j] + '.json'\n",
    "        f = open(saved_dir + '/' + filename, 'w')\n",
    "        output_dic = {author_name[j]:list(dics[0][0].values())}\n",
    "        f.write(json.dumps(output_dic,indent=4))\n",
    "        f.close()"
   ]
  }
 ],
 "metadata": {
  "kernelspec": {
   "display_name": "Python [conda env:root] *",
   "language": "python",
   "name": "conda-root-py"
  },
  "language_info": {
   "codemirror_mode": {
    "name": "ipython",
    "version": 3
   },
   "file_extension": ".py",
   "mimetype": "text/x-python",
   "name": "python",
   "nbconvert_exporter": "python",
   "pygments_lexer": "ipython3",
   "version": "3.7.7"
  }
 },
 "nbformat": 4,
 "nbformat_minor": 4
}
